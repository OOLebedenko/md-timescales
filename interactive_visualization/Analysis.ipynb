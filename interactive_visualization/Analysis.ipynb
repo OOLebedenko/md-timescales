{
 "cells": [
  {
   "cell_type": "code",
   "execution_count": 1,
   "metadata": {},
   "outputs": [],
   "source": [
    "from __future__ import print_function\n",
    "from ipywidgets import interact, interactive, fixed, interact_manual, Textarea\n",
    "from ipywidgets import Button, GridBox, Layout, ButtonStyle, Box, Label, Dropdown, FloatText, HBox, VBox\n",
    "import ipywidgets as widgets\n",
    "from IPython.display import display_html, clear_output"
   ]
  },
  {
   "cell_type": "code",
   "execution_count": 2,
   "metadata": {},
   "outputs": [],
   "source": [
    "from IPython.display import display\n",
    "import os\n",
    "import pandas as pd\n",
    "import numpy as np\n",
    "%matplotlib inline\n",
    "from matplotlib import pyplot as plt"
   ]
  },
  {
   "cell_type": "code",
   "execution_count": 3,
   "metadata": {},
   "outputs": [],
   "source": [
    "from io import BytesIO\n",
    "import base64\n",
    "import glob"
   ]
  },
  {
   "cell_type": "code",
   "execution_count": 4,
   "metadata": {},
   "outputs": [],
   "source": [
    "import plot_for_notebook"
   ]
  },
  {
   "cell_type": "code",
   "execution_count": 116,
   "metadata": {},
   "outputs": [],
   "source": [
    "class BoxFields:\n",
    "    def __init__(self, protein_value):\n",
    "        \n",
    "        self.func = None \n",
    "        self.protein_value = protein_value\n",
    "        self.ansamble_value = 'NVE'\n",
    "        self.water_model_value ='spce'\n",
    "        self.analysis_type_value = 'autocorrelation'\n",
    "        \n",
    "        \n",
    "        self.form_item_layout = Layout(\n",
    "                                        width= '99%',\n",
    "                                        align_items='stretch'\n",
    "                                    )\n",
    "        self.form_item_layout_box = Layout(\n",
    "                                        width= '50%',\n",
    "                                        align_items='stretch',\n",
    "                                    )\n",
    "        self.water_model =  widgets.Dropdown(\n",
    "        options=['spce', 'tip3p', 'tip4p-ew', 'tip4p-d'],\n",
    "        value='spce',\n",
    "        description='water model:',\n",
    "        disabled=False,\n",
    "        layout=self.form_item_layout_box)\n",
    "\n",
    "        self.ansamble = widgets.Dropdown(\n",
    "                options=['NVE', 'NPT_gamma_ln_0.01', 'NPT_gamma_ln_2', 'NVT_gamma_ln_0.01' ],\n",
    "                value='NVE',\n",
    "                description='ansamble:',\n",
    "                layout=self.form_item_layout_box,\n",
    "            )\n",
    "        self.protein = widgets.Dropdown(\n",
    "                options=['ubq', 'h4'],\n",
    "                value=self.protein_value,\n",
    "                description='protein:',\n",
    "                layout=self.form_item_layout,\n",
    "                dropdown_color='moccasin',\n",
    "                align_items='left',\n",
    "                    border='solid',\n",
    "                    width='100%'\n",
    "            )\n",
    "        \n",
    "        self.analysis_type = widgets.Dropdown(\n",
    "                    options=['autocorrelation', 'translational diffusion'],\n",
    "                    value='autocorrelation',\n",
    "                    layout=Layout(width='99%', grid_area='header'),\n",
    "                    align_items='center',\n",
    "                            border='solid',\n",
    "                            width='99%')\n",
    "\n",
    "        \n",
    "        \n",
    "    def get_form(self):\n",
    "\n",
    "        self.form_items = [self.protein, \n",
    "                           VBox([self.water_model, self.ansamble])]\n",
    "\n",
    "        self.form = Box(self.form_items, layout=Layout(\n",
    "                                        display='flex',\n",
    "                                        flex_flow='column',\n",
    "                                        border='solid 2px',\n",
    "                                        align_items='stretch',\n",
    "                                        width='50%'\n",
    "                                    ))\n",
    "        return self.form\n",
    "    \n",
    "    def set_func(self, func):\n",
    "        self.func = func\n",
    "    \n",
    "    def on_value_change(self, change):\n",
    "        return change['owner'].description.strip(':'), change['new']\n",
    "    \n",
    "    def main_change(self, change):\n",
    "\n",
    "        owner_value, new_value = self.on_value_change(change)\n",
    "        if owner_value == 'protein':\n",
    "            self.protein_value = new_value\n",
    "        elif owner_value == 'water model':\n",
    "            self.water_model_value = new_value\n",
    "        elif owner_value == 'ansamble':\n",
    "            self.ansamble_value = new_value\n",
    "        elif owner_value == 'analysis_type':\n",
    "            self.analysis_type_value = new_value\n",
    "        if self.func:\n",
    "            self.func()\n",
    "        \n",
    "        \n",
    "    def observe(self):\n",
    "        self.water_model.observe(self.main_change, names='value')\n",
    "        self.ansamble.observe(self.main_change, names='value')\n",
    "        self.protein.observe(self.main_change, names='value')\n",
    "        self.analysis_type.observe(self.main_change, names='value')\n"
   ]
  },
  {
   "cell_type": "code",
   "execution_count": 6,
   "metadata": {},
   "outputs": [],
   "source": [
    "class GridBoxFields:\n",
    "    \n",
    "    def __init__(self, protein_1, protein_2):\n",
    "        self.box_fields_1 = BoxFields(protein_1)\n",
    "        self.box_fields_2 = BoxFields(protein_2)\n",
    "        \n",
    "    def set_func(self, func):\n",
    "        self.func = func\n",
    "        \n",
    "    def get_hbox(self):\n",
    "        self.hbox = HBox([self.box_fields_1.get_form(), self.box_fields_2.get_form()])\n",
    "        return self.hbox\n",
    "    \n",
    "        \n",
    "    def get_gridbox(self):\n",
    "        header = self.box_fields_1.analysis_type\n",
    "        main = self.get_hbox()\n",
    "\n",
    "\n",
    "        gridbox = GridBox(children=[header, main],\n",
    "                layout=Layout(\n",
    "                    grid_template_areas='''\n",
    "                    \"header\"\n",
    "                    \"main \"\n",
    "                    ''')\n",
    "               )\n",
    "        return gridbox\n",
    "    def observe(self):\n",
    "        if self.func:\n",
    "            self.func()\n",
    "        self.box_fields_1.observe()\n",
    "        self.box_fields_2.observe()"
   ]
  },
  {
   "cell_type": "code",
   "execution_count": 28,
   "metadata": {},
   "outputs": [],
   "source": [
    "class ImageDisplay:\n",
    "    def __init__(self, protein_1, protein_2):\n",
    "        self.gridbox = GridBoxFields(protein_1, protein_2)\n",
    "        self.numbers = 0\n",
    "        self.order = 0\n",
    "        \n",
    "    def set_numbers(self, numbers):\n",
    "        self.numbers = numbers\n",
    "        \n",
    "    def set_order(self, order):\n",
    "        self.order = order  \n",
    "        \n",
    "    def get_figure_str(self,analysis=\"autocorrelation\", group=\"NH\", \n",
    "                       numbers=1, order=2, box_fields='box_fields_1'):\n",
    "        \n",
    "        choice_box = {'box_fields_1': image_display.gridbox.box_fields_1,\n",
    "                      'box_fields_2': image_display.gridbox.box_fields_2}\n",
    "        analysis=choice_box[box_fields].analysis_type_value\n",
    "        ansamble=choice_box[box_fields].ansamble_value\n",
    "        water_model=choice_box[box_fields].water_model_value\n",
    "        protein=choice_box[box_fields].protein_value\n",
    "        choice_analysis_path = {\"autocorrelation\": os.path.join(protein, water_model, ansamble,\\\n",
    "                          \"autocorr\", group, \"data\"),\n",
    "               \"translational_diffusion\": os.path.join(protein, water_model, ansamble,\\\n",
    "                          analysis),\n",
    "               \"overall_thumbling\": os.path.join(protein, water_model, ansamble,\\\n",
    "                          analysis)}\n",
    "        data_path =  choice_analysis_path[analysis]\n",
    "        try:\n",
    "            csv_files = sorted(glob.glob(os.path.join(data_path,\"acorr\", \"*.csv\")))\n",
    "            if numbers > len(csv_files):\n",
    "                numbers = len(csv_files) - 1\n",
    "            path_to_accor = csv_files[numbers]\n",
    "            path_to_fit = os.path.join(data_path,\"fit\")\n",
    "            fig, ax = plot_for_notebook.get_plot_acorr_fit(path_to_fit, path_to_accor, order)\n",
    "            blob = BytesIO()\n",
    "            plt.savefig(blob,format=\"png\")\n",
    "            plt.close()\n",
    "            self.img1_base64 = base64.b64encode(blob.getvalue()).decode(\"utf-8\") \n",
    "            return self.img1_base64\n",
    "        except IndexError:\n",
    "            print(\"Trajectory {protein} {ansamble} {water_model} isn't ready for handling\".\\\n",
    "                  format(protein=protein, ansamble=ansamble, water_model=water_model))\n",
    "        \n",
    "    \n",
    "    def show_image(self, numbers=1, order=2):\n",
    "        \n",
    "        if self.numbers:\n",
    "            numbers = self.numbers\n",
    "            \n",
    "        if self.order:\n",
    "            order = self.order\n",
    " \n",
    "        for ind in range(numbers):\n",
    "                display_html(\"\"\"\n",
    "\n",
    "            <table style=\"width:100%\">\n",
    "              <tr>\n",
    "                <th></th>\n",
    "                <th></th>\n",
    "              </tr>\n",
    "              <tr>\n",
    "                <td><img src=\"data:image/png;base64, {img}\"></td>\n",
    "                <td><img src=\"data:image/png;base64, {img1}\"></td>\n",
    "              </tr>\n",
    "            </table> \n",
    "\n",
    "            \"\"\".format(img=self.get_figure_str(box_fields='box_fields_1', numbers=ind, order=order), \n",
    "                       img1=self.get_figure_str(box_fields='box_fields_2', numbers=ind, order=order)),\n",
    "                       raw=True)"
   ]
  },
  {
   "cell_type": "code",
   "execution_count": 119,
   "metadata": {},
   "outputs": [
    {
     "data": {
      "text/plain": [
       "IntText(value=0, description='numbers')"
      ]
     },
     "metadata": {},
     "output_type": "display_data"
    },
    {
     "data": {
      "text/plain": [
       "Dropdown(description='order:', options=(2, 3, 4), value=2)"
      ]
     },
     "metadata": {},
     "output_type": "display_data"
    },
    {
     "data": {
      "text/plain": [
       "GridBox(children=(Dropdown(layout=Layout(grid_area='header', width='99%'), options=('autocorrelation', 'transl…"
      ]
     },
     "metadata": {},
     "output_type": "display_data"
    },
    {
     "data": {
      "text/plain": [
       "Output()"
      ]
     },
     "metadata": {},
     "output_type": "display_data"
    },
    {
     "name": "stdout",
     "output_type": "stream",
     "text": [
      "Trajectory h4 NVE spce isn't ready for handling\n"
     ]
    },
    {
     "data": {
      "text/html": [
       "\n",
       "\n",
       "            <table style=\"width:100%\">\n",
       "              <tr>\n",
       "                <th></th>\n",
       "                <th></th>\n",
       "              </tr>\n",
       "              <tr>\n",
       "                <td><img src=\"data:image/png;base64, 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\"></td>\n",
       "                <td><img src=\"data:image/png;base64, None\"></td>\n",
       "              </tr>\n",
       "            </table> \n",
       "\n",
       "            "
      ]
     },
     "metadata": {},
     "output_type": "execute_result"
    }
   ],
   "source": [
    "numbers_of_picture = widgets.IntText(description=\"numbers\")\n",
    "order_exp = widgets.Dropdown(\n",
    "        options=[2, 3, 4],\n",
    "        value=2,\n",
    "        description='order:',\n",
    "        disabled=False,)\n",
    "\n",
    "display(numbers_of_picture)\n",
    "display(order_exp)\n",
    "image_display = ImageDisplay('ubq', 'h4')\n",
    "display(image_display.gridbox.get_gridbox())\n",
    "\n",
    "out = Output() \n",
    "display(out)\n",
    "\n",
    "\n",
    "image_display.gridbox.set_func(image_display.show_image)\n",
    "image_display.gridbox.box_fields_1.set_func(image_display.show_image)\n",
    "image_display.gridbox.box_fields_2.set_func(image_display.show_image)\n",
    "image_display.gridbox.observe()\n",
    "\n",
    "\n",
    "def on_value_change(change):\n",
    "    global out\n",
    "\n",
    "\n",
    "    if change['owner'].description.strip(':') == 'order':\n",
    "        image_display.set_order(change['new']) \n",
    "        \n",
    "    if change['owner'].description.strip(':') == 'numbers':  \n",
    "        image_display.set_numbers(change['new'])\n",
    "    with out:\n",
    "        clear_output(wait=True)\n",
    "        image_display.gridbox.set_func(image_display.show_image)\n",
    "        image_display.gridbox.box_fields_1.set_func(image_display.show_image)\n",
    "        image_display.gridbox.box_fields_2.set_func(image_display.show_image)\n",
    "        image_display.gridbox.observe()\n",
    "    clean = 1\n",
    "    \n",
    "numbers_of_picture.observe(on_value_change, names='value')\n",
    "order_exp.observe(on_value_change, names='value')"
   ]
  }
 ],
 "metadata": {
  "kernelspec": {
   "display_name": "Python 3",
   "language": "python",
   "name": "python3"
  },
  "language_info": {
   "codemirror_mode": {
    "name": "ipython",
    "version": 3
   },
   "file_extension": ".py",
   "mimetype": "text/x-python",
   "name": "python",
   "nbconvert_exporter": "python",
   "pygments_lexer": "ipython3",
   "version": "3.7.2"
  }
 },
 "nbformat": 4,
 "nbformat_minor": 2
}
