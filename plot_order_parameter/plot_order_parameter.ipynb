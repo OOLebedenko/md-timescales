{
 "cells": [
  {
   "cell_type": "code",
   "execution_count": 2,
   "metadata": {},
   "outputs": [],
   "source": [
    "from Bio.PDB import *\n",
    "from Bio.PDB import DSSP"
   ]
  },
  {
   "cell_type": "code",
   "execution_count": 3,
   "metadata": {},
   "outputs": [],
   "source": [
    "import pickle\n",
    "import pandas as pd"
   ]
  },
  {
   "cell_type": "code",
   "execution_count": 4,
   "metadata": {},
   "outputs": [],
   "source": [
    "import numpy as np\n",
    "import matplotlib.pyplot as plt\n",
    "import matplotlib.patches as mpatches"
   ]
  },
  {
   "cell_type": "code",
   "execution_count": 5,
   "metadata": {},
   "outputs": [],
   "source": [
    "p = PDBParser()\n",
    "structure = p.get_structure(\"ubq\", \"1ubq.pdb\")"
   ]
  },
  {
   "cell_type": "code",
   "execution_count": 6,
   "metadata": {},
   "outputs": [],
   "source": [
    "model = structure[0]"
   ]
  },
  {
   "cell_type": "code",
   "execution_count": 7,
   "metadata": {},
   "outputs": [],
   "source": [
    " with open('1ubq_dssp.pickle', 'rb') as f:\n",
    "        dssp = pickle.load(f)"
   ]
  },
  {
   "cell_type": "code",
   "execution_count": 8,
   "metadata": {},
   "outputs": [],
   "source": [
    "fit = pd.read_csv(\"./fit/tau_4_exp.csv\")\n",
    "parameter_order = fit.constant\n",
    "rides = fit.rId\n",
    "rnames = [rname[0] for rname in fit.rName]\n",
    "anames = fit.aName"
   ]
  },
  {
   "cell_type": "code",
   "execution_count": 9,
   "metadata": {},
   "outputs": [
    {
     "data": {
      "text/html": [
       "<div>\n",
       "<style scoped>\n",
       "    .dataframe tbody tr th:only-of-type {\n",
       "        vertical-align: middle;\n",
       "    }\n",
       "\n",
       "    .dataframe tbody tr th {\n",
       "        vertical-align: top;\n",
       "    }\n",
       "\n",
       "    .dataframe thead th {\n",
       "        text-align: right;\n",
       "    }\n",
       "</style>\n",
       "<table border=\"1\" class=\"dataframe\">\n",
       "  <thead>\n",
       "    <tr style=\"text-align: right;\">\n",
       "      <th></th>\n",
       "      <th>aName</th>\n",
       "      <th>constant</th>\n",
       "      <th>exp-4-a1</th>\n",
       "      <th>exp-4-a2</th>\n",
       "      <th>exp-4-a3</th>\n",
       "      <th>exp-4-tau1</th>\n",
       "      <th>exp-4-tau2</th>\n",
       "      <th>exp-4-tau3</th>\n",
       "      <th>limit</th>\n",
       "      <th>rId</th>\n",
       "      <th>rName</th>\n",
       "    </tr>\n",
       "  </thead>\n",
       "  <tbody>\n",
       "    <tr>\n",
       "      <th>0</th>\n",
       "      <td>CD1</td>\n",
       "      <td>2.267511e-15</td>\n",
       "      <td>0.292980</td>\n",
       "      <td>0.617747</td>\n",
       "      <td>0.089273</td>\n",
       "      <td>0.000720</td>\n",
       "      <td>0.016623</td>\n",
       "      <td>0.778865</td>\n",
       "      <td>76</td>\n",
       "      <td>3</td>\n",
       "      <td>ILE</td>\n",
       "    </tr>\n",
       "    <tr>\n",
       "      <th>1</th>\n",
       "      <td>CG2</td>\n",
       "      <td>1.037444e-02</td>\n",
       "      <td>0.143372</td>\n",
       "      <td>0.273650</td>\n",
       "      <td>0.572603</td>\n",
       "      <td>0.000010</td>\n",
       "      <td>0.443295</td>\n",
       "      <td>0.105472</td>\n",
       "      <td>318</td>\n",
       "      <td>3</td>\n",
       "      <td>ILE</td>\n",
       "    </tr>\n",
       "    <tr>\n",
       "      <th>2</th>\n",
       "      <td>CG1</td>\n",
       "      <td>7.417473e-02</td>\n",
       "      <td>0.208262</td>\n",
       "      <td>0.186401</td>\n",
       "      <td>0.531162</td>\n",
       "      <td>0.000049</td>\n",
       "      <td>0.020938</td>\n",
       "      <td>0.072688</td>\n",
       "      <td>169</td>\n",
       "      <td>5</td>\n",
       "      <td>VAL</td>\n",
       "    </tr>\n",
       "    <tr>\n",
       "      <th>3</th>\n",
       "      <td>CG2</td>\n",
       "      <td>4.417964e-02</td>\n",
       "      <td>0.211100</td>\n",
       "      <td>0.583315</td>\n",
       "      <td>0.161406</td>\n",
       "      <td>0.000425</td>\n",
       "      <td>0.064021</td>\n",
       "      <td>0.359226</td>\n",
       "      <td>261</td>\n",
       "      <td>5</td>\n",
       "      <td>VAL</td>\n",
       "    </tr>\n",
       "    <tr>\n",
       "      <th>4</th>\n",
       "      <td>CG2</td>\n",
       "      <td>5.671618e-02</td>\n",
       "      <td>0.240048</td>\n",
       "      <td>0.619752</td>\n",
       "      <td>0.083484</td>\n",
       "      <td>0.000738</td>\n",
       "      <td>0.016494</td>\n",
       "      <td>0.140641</td>\n",
       "      <td>96</td>\n",
       "      <td>7</td>\n",
       "      <td>THR</td>\n",
       "    </tr>\n",
       "  </tbody>\n",
       "</table>\n",
       "</div>"
      ],
      "text/plain": [
       "  aName      constant  exp-4-a1  exp-4-a2  exp-4-a3  exp-4-tau1  exp-4-tau2  \\\n",
       "0   CD1  2.267511e-15  0.292980  0.617747  0.089273    0.000720    0.016623   \n",
       "1   CG2  1.037444e-02  0.143372  0.273650  0.572603    0.000010    0.443295   \n",
       "2   CG1  7.417473e-02  0.208262  0.186401  0.531162    0.000049    0.020938   \n",
       "3   CG2  4.417964e-02  0.211100  0.583315  0.161406    0.000425    0.064021   \n",
       "4   CG2  5.671618e-02  0.240048  0.619752  0.083484    0.000738    0.016494   \n",
       "\n",
       "   exp-4-tau3  limit  rId rName  \n",
       "0    0.778865     76    3   ILE  \n",
       "1    0.105472    318    3   ILE  \n",
       "2    0.072688    169    5   VAL  \n",
       "3    0.359226    261    5   VAL  \n",
       "4    0.140641     96    7   THR  "
      ]
     },
     "execution_count": 9,
     "metadata": {},
     "output_type": "execute_result"
    }
   ],
   "source": [
    "fit.head()"
   ]
  },
  {
   "cell_type": "code",
   "execution_count": 10,
   "metadata": {},
   "outputs": [],
   "source": [
    "secondary_structure = []\n",
    "secondary_structure_dict = {'H':'α-helix', 'E': 'Strand', 'B': 'Isolated β-bridge residue',\n",
    "                           'G': '3-10 helix', 'I': 'Π-helix', 'T': 'Turn', 'S': 'Bend', '-': '-'}\n",
    "for rid in rides:\n",
    "    a_key = list(dssp.keys())[rid]\n",
    "    elem = dssp[a_key][2]\n",
    "    secondary_structure.append(secondary_structure_dict[elem])"
   ]
  },
  {
   "cell_type": "code",
   "execution_count": 11,
   "metadata": {},
   "outputs": [],
   "source": [
    "color_dict = {'α-helix': 'black', 'Isolated β-bridge residue': 'red', 'Strand': 'green','3-10 helix': 'blue',\n",
    "              'Π-helix': 'cyan', 'Turn': '#afeeee', 'Bend': 'burlywood', '-': 'chartreuse'}"
   ]
  },
  {
   "cell_type": "code",
   "execution_count": 12,
   "metadata": {},
   "outputs": [],
   "source": [
    "color = [color_dict[element] for element in list(secondary_structure)]"
   ]
  },
  {
   "cell_type": "code",
   "execution_count": 13,
   "metadata": {},
   "outputs": [],
   "source": [
    "names = [\"_\".join(elem) for elem in zip(rnames, rides.astype(str), anames)]"
   ]
  },
  {
   "cell_type": "code",
   "execution_count": 14,
   "metadata": {},
   "outputs": [],
   "source": [
    "height = parameter_order\n",
    "bars = names\n",
    "y_pos = np.arange(len(bars))"
   ]
  },
  {
   "cell_type": "code",
   "execution_count": 15,
   "metadata": {},
   "outputs": [
    {
     "data": {
      "image/png": "[encoded data removed]",
      "text/plain": [
       "<Figure size 1440x720 with 1 Axes>"
      ]
     },
     "metadata": {
      "needs_background": "light"
     },
     "output_type": "display_data"
    }
   ],
   "source": [
    "use =set()\n",
    "plt.figure(figsize=(20,10))\n",
    "for j in range(len(height)):\n",
    "    label = secondary_structure[j]\n",
    "    if label in use:\n",
    "        label = None\n",
    "    plt.bar(y_pos[j], height[j], color=color[j], label=label)\n",
    "    use.add(secondary_structure[j])\n",
    "plt.xticks(y_pos, bars, rotation=65)\n",
    "plt.legend()\n",
    "plt.show()"
   ]
  }
 ],
 "metadata": {
  "kernelspec": {
   "display_name": "Python 3",
   "language": "python",
   "name": "python3"
  },
  "language_info": {
   "codemirror_mode": {
    "name": "ipython",
    "version": 3
   },
   "file_extension": ".py",
   "mimetype": "text/x-python",
   "name": "python",
   "nbconvert_exporter": "python",
   "pygments_lexer": "ipython3",
   "version": "3.7.2"
  }
 },
 "nbformat": 4,
 "nbformat_minor": 1
}
